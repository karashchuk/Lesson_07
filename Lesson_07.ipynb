{
 "cells": [
  {
   "cell_type": "code",
   "execution_count": 40,
   "metadata": {
    "collapsed": false
   },
   "outputs": [
    {
     "name": "stdout",
     "output_type": "stream",
     "text": [
      "A =\n",
      " [[1 2 3]\n",
      " [4 0 6]\n",
      " [7 8 9]]\n",
      "B [12  2  1]\n",
      "Ax = B\n",
      "x =  [-9.2         0.9         6.46666667]\n",
      "\n",
      "Преверям:\n",
      "Ax = [ 12.   2.   1.]\n",
      "\n",
      "[[-0.8         0.1         0.2       ]\n",
      " [ 0.1        -0.2         0.1       ]\n",
      " [ 0.53333333  0.1        -0.13333333]]\n",
      "det =  60.0\n",
      "[-9.2         0.9         6.46666667]\n"
     ]
    }
   ],
   "source": [
    "import numpy as np\n",
    "A = np.array([[1, 2, 3], [4, 0, 6], [7, 8, 9]])\n",
    "B = np.array([12, 2, 1])\n",
    "\n",
    "print(\"A =\\n\", A)\n",
    "print(\"B\",B)\n",
    "print(\"Ax = B\")\n",
    "x = np.linalg.solve(A, B)\n",
    "print(\"x = \", x)\n",
    "print(\"\")\n",
    "print(\"Преверям:\")\n",
    "print(\"Ax =\", A.dot(x))\n",
    "print(\"\")\n",
    "\n",
    "A1 = np.linalg.inv(A)\n",
    "print(A1)\n",
    "print (\"det = \",np.linalg.det(A))\n",
    "print(np.dot(A1,B))"
   ]
  },
  {
   "cell_type": "code",
   "execution_count": 32,
   "metadata": {
    "collapsed": false
   },
   "outputs": [
    {
     "name": "stdout",
     "output_type": "stream",
     "text": [
      "[[ 1  2 -1]\n",
      " [ 3 -4  0]\n",
      " [ 8 -5  2]\n",
      " [ 2  0 -5]\n",
      " [11  4 -7]]\n",
      "[ 1  7 12  7 15]\n",
      "Псевдо решение x =  [ 1.13919353 -0.90498444 -0.9009803 ]\n",
      "Отклонение =  [ 0.71523211]\n",
      "Ранг матрицы =  3\n",
      "Невязка =  [-0.76979505  0.03751834 -0.16349019 -0.21671145  0.21805313]\n"
     ]
    }
   ],
   "source": [
    "import numpy as np\n",
    "A = np.array([[1, 2, -1], [3, -4, 0], [8, -5, 2],[2,0,-5],[11,4,-7]])\n",
    "B = np.array([1, 7, 12, 7, 15])\n",
    "print(A)\n",
    "print (B)\n",
    "x,residuals,rank,s = np.linalg.lstsq(A,B)\n",
    "print (\"Псевдо решение x = \", x)\n",
    "print (\"Отклонение = \", residuals)\n",
    "print (\"Ранг матрицы = \", rank)\n",
    "print (\"Невязка = \", np.dot(A,x)-B)"
   ]
  },
  {
   "cell_type": "code",
   "execution_count": 44,
   "metadata": {
    "collapsed": false
   },
   "outputs": [
    {
     "name": "stdout",
     "output_type": "stream",
     "text": [
      "[[ 1  2  3 12]\n",
      " [ 4  5  6  2]\n",
      " [ 7  8  9  1]]\n",
      "Ранг матрицы A =  2\n",
      "Ранг дополненной матрицы  =  3\n",
      "Система не имеет решений\n"
     ]
    }
   ],
   "source": [
    "import numpy as np\n",
    "A = np.array([[1, 2, 3], [4, 5, 6], [7, 8, 9]])\n",
    "B = np.array([[12, 2, 1]])\n",
    "C = np.c_[A,B.T]\n",
    "print (C)\n",
    "print (\"Ранг матрицы A = \", np.linalg.matrix_rank(A))\n",
    "print (\"Ранг дополненной матрицы  = \", np.linalg.matrix_rank(C))\n",
    "if (np.linalg.matrix_rank(A) != np.linalg.matrix_rank(C)):\n",
    "    print (\"Система не имеет решений\")\n"
   ]
  },
  {
   "cell_type": "code",
   "execution_count": 50,
   "metadata": {
    "collapsed": false
   },
   "outputs": [
    {
     "name": "stdout",
     "output_type": "stream",
     "text": [
      "[[1 2 3 3]\n",
      " [4 5 6 2]\n",
      " [7 8 9 1]]\n",
      "Ранг матрицы A =  2\n",
      "Ранг дополненной матрицы  =  2\n",
      "Решение x = [ -9.66666667  15.33333333  -6.        ]\n",
      "[ 3.  2.  1.]\n"
     ]
    }
   ],
   "source": [
    "A = np.array([[1, 2, 3], [4, 5, 6], [7, 8, 9]])\n",
    "B = np.array([3, 2, 1])\n",
    "C = np.c_[A,B.T]\n",
    "print (C)\n",
    "print (\"Ранг матрицы A = \", np.linalg.matrix_rank(A))\n",
    "print (\"Ранг дополненной матрицы  = \", np.linalg.matrix_rank(C))\n",
    "if (np.linalg.matrix_rank(A) != np.linalg.matrix_rank(C)):\n",
    "    print (\"Система не имеет решений\")\n",
    "else:\n",
    "    y = np.linalg.solve(A,B)\n",
    "    print (\"Решение x =\",y)\n",
    "    print (np.dot(A,y))"
   ]
  },
  {
   "cell_type": "code",
   "execution_count": 63,
   "metadata": {
    "collapsed": false
   },
   "outputs": [
    {
     "name": "stdout",
     "output_type": "stream",
     "text": [
      "[[ 1  2  3]\n",
      " [ 2 16 21]\n",
      " [ 4 28 73]]\n",
      "P = \n",
      " [[ 0.  1.  0.]\n",
      " [ 0.  0.  1.]\n",
      " [ 1.  0.  0.]]\n",
      "L = \n",
      " [[ 1.    0.    0.  ]\n",
      " [ 0.25  1.    0.  ]\n",
      " [ 0.5  -0.4   1.  ]]\n",
      "U = \n",
      " [[  4.    28.    73.  ]\n",
      " [  0.    -5.   -15.25]\n",
      " [  0.     0.   -21.6 ]]\n"
     ]
    }
   ],
   "source": [
    "import numpy as np\n",
    "import scipy\n",
    "import scipy.linalg\n",
    "A = np.array([[1, 2, 3], [2, 16, 21], [4, 28, 73]])\n",
    "print (A)\n",
    "P,L,U = scipy.linalg.lu(A)\n",
    "print (\"P = \\n\", P)\n",
    "print (\"L = \\n\", L)\n",
    "print (\"U = \\n\", U)"
   ]
  },
  {
   "cell_type": "code",
   "execution_count": 57,
   "metadata": {
    "collapsed": false
   },
   "outputs": [
    {
     "name": "stdout",
     "output_type": "stream",
     "text": [
      "Решение x = [ 3.72685185 -0.18287037 -0.12037037]\n"
     ]
    }
   ],
   "source": [
    "B = np.array([3, 2, 1])\n",
    "z = np.linalg.solve(A,B)\n",
    "print (\"Решение x =\",z)"
   ]
  },
  {
   "cell_type": "code",
   "execution_count": 86,
   "metadata": {
    "collapsed": false
   },
   "outputs": [
    {
     "name": "stdout",
     "output_type": "stream",
     "text": [
      "[[ 1  2 -1]\n",
      " [ 8 -5  2]]\n",
      "[ 1 12]\n",
      "Псевдо решение x =  [ 1.38191882 -0.18081181  0.0202952 ]\n",
      "Решение при поиске минимальной нормы =  [1.3820000000000001, -0.17999999999999972, 0.022000000000002018]\n"
     ]
    }
   ],
   "source": [
    "import numpy as np\n",
    "A = np.array([[1, 2, -1], [8, -5, 2]])\n",
    "B = np.array([1, 12])\n",
    "print(A)\n",
    "print (B)\n",
    "x,residuals,rank,s = np.linalg.lstsq(A,B)\n",
    "print (\"Псевдо решение x = \", x)\n",
    "\n",
    "def Q(x,y,z):\n",
    "    return (x**2+y**2+z**2)\n",
    "x = np.linspace(1,2,2001)\n",
    "#print (x)\n",
    "f = list(Q(x,(10*x-14),(21*x-29)))\n",
    "fmin = min(f)\n",
    "k = f.index(fmin)\n",
    "print (\"Решение при поиске минимальной нормы = \",[x[k],(10*x[k]-14),(21*x[k]-29)])"
   ]
  },
  {
   "cell_type": "code",
   "execution_count": 100,
   "metadata": {
    "collapsed": false
   },
   "outputs": [
    {
     "name": "stdout",
     "output_type": "stream",
     "text": [
      "[[-0.12309149  0.90453403  0.40824829]\n",
      " [-0.49236596  0.30151134 -0.81649658]\n",
      " [-0.86164044 -0.30151134  0.40824829]]\n",
      "[[ -8.1240384   -9.6011363  -11.07823419]\n",
      " [  0.           0.90453403   1.80906807]\n",
      " [  0.           0.           0.        ]]\n",
      "[[-8.1240384  -9.6011363 ]\n",
      " [ 0.          0.90453403]]\n",
      "[ -1.21860576e+01   1.33226763e-15]\n",
      "Псевдо решение x =  [1.4999999999999989, 1.4728772825180593e-15, 0]\n"
     ]
    }
   ],
   "source": [
    "import numpy as np\n",
    "A = np.array([[1, 2, 3], [4, 5, 6], [7, 8, 9]])\n",
    "B = np.array([2, 5, 11])\n",
    "Q,R = np.linalg.qr(A)\n",
    "R1=R[:2,:2]\n",
    "B1=np.dot(Q.T,B)[:2]\n",
    "print(Q)\n",
    "print (R)\n",
    "print(R1)\n",
    "print (B1)\n",
    "X1 = list(np.linalg.solve(R1,B1))\n",
    "X1.append(0)\n",
    "print (\"Псевдо решение x = \", X1)\n"
   ]
  },
  {
   "cell_type": "code",
   "execution_count": null,
   "metadata": {
    "collapsed": false
   },
   "outputs": [],
   "source": []
  },
  {
   "cell_type": "code",
   "execution_count": null,
   "metadata": {
    "collapsed": true
   },
   "outputs": [],
   "source": []
  }
 ],
 "metadata": {
  "kernelspec": {
   "display_name": "Python 3",
   "language": "python",
   "name": "python3"
  },
  "language_info": {
   "codemirror_mode": {
    "name": "ipython",
    "version": 3
   },
   "file_extension": ".py",
   "mimetype": "text/x-python",
   "name": "python",
   "nbconvert_exporter": "python",
   "pygments_lexer": "ipython3",
   "version": "3.5.1"
  }
 },
 "nbformat": 4,
 "nbformat_minor": 0
}
